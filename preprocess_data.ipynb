{
 "cells": [
  {
   "cell_type": "code",
   "execution_count": 1,
   "metadata": {
    "collapsed": true
   },
   "outputs": [],
   "source": [
    "import pandas as pd\n",
    "from collections import Counter"
   ]
  },
  {
   "cell_type": "code",
   "execution_count": 2,
   "metadata": {
    "collapsed": false
   },
   "outputs": [
    {
     "data": {
      "text/plain": [
       "Counter({23: 241047, 24: 14, 25: 5, 1: 3, 26: 1})"
      ]
     },
     "execution_count": 2,
     "metadata": {},
     "output_type": "execute_result"
    }
   ],
   "source": [
    "# pandas gives an error because a raw has extra columns, so we have to clean the data first\n",
    "with open('COBRA021816.csv') as f:\n",
    "    raw = []\n",
    "    n_elements = []\n",
    "    for line in f:\n",
    "        raw.append(line.strip().split(','))\n",
    "        n_elements.append(len(raw[-1]))\n",
    "        \n",
    "\n",
    "Counter(n_elements)"
   ]
  },
  {
   "cell_type": "code",
   "execution_count": 22,
   "metadata": {
    "collapsed": false
   },
   "outputs": [
    {
     "data": {
      "text/html": [
       "<div>\n",
       "<table border=\"1\" class=\"dataframe\">\n",
       "  <thead>\n",
       "    <tr style=\"text-align: right;\">\n",
       "      <th></th>\n",
       "      <th>occur_date</th>\n",
       "      <th>occur_time</th>\n",
       "      <th>location</th>\n",
       "      <th>UC2 Literal</th>\n",
       "      <th>neighborhood</th>\n",
       "      <th>x</th>\n",
       "      <th>y</th>\n",
       "    </tr>\n",
       "  </thead>\n",
       "  <tbody>\n",
       "    <tr>\n",
       "      <th>0</th>\n",
       "      <td>02/03/2009</td>\n",
       "      <td>13:50:00</td>\n",
       "      <td>55 MCDONOUGH BLVD SW</td>\n",
       "      <td>LARCENY-NON VEHICLE</td>\n",
       "      <td>South Atlanta</td>\n",
       "      <td>-84.38654</td>\n",
       "      <td>33.72024</td>\n",
       "    </tr>\n",
       "    <tr>\n",
       "      <th>1</th>\n",
       "      <td>02/06/2009</td>\n",
       "      <td>08:50:00</td>\n",
       "      <td>464 ANSLEY WALK TER NW</td>\n",
       "      <td>LARCENY-FROM VEHICLE</td>\n",
       "      <td>Ansley Park</td>\n",
       "      <td>-84.37276</td>\n",
       "      <td>33.79685</td>\n",
       "    </tr>\n",
       "    <tr>\n",
       "      <th>2</th>\n",
       "      <td>06/17/2009</td>\n",
       "      <td>14:00:00</td>\n",
       "      <td>375 AUBURN AVE</td>\n",
       "      <td>LARCENY-NON VEHICLE</td>\n",
       "      <td>Sweet Auburn</td>\n",
       "      <td>-84.37521</td>\n",
       "      <td>33.7554</td>\n",
       "    </tr>\n",
       "    <tr>\n",
       "      <th>3</th>\n",
       "      <td>02/24/2010</td>\n",
       "      <td>23:29:00</td>\n",
       "      <td>600 MARTIN ST</td>\n",
       "      <td>AGG ASSAULT</td>\n",
       "      <td>Pittsburgh</td>\n",
       "      <td>-84.3946</td>\n",
       "      <td>33.72212</td>\n",
       "    </tr>\n",
       "    <tr>\n",
       "      <th>4</th>\n",
       "      <td>01/08/2008</td>\n",
       "      <td>13:14:00</td>\n",
       "      <td>447 ARNOLD STREET NE</td>\n",
       "      <td>BURGLARY-RESIDENCE</td>\n",
       "      <td>Old Fourth Ward</td>\n",
       "      <td>-84.36896</td>\n",
       "      <td>33.76658</td>\n",
       "    </tr>\n",
       "  </tbody>\n",
       "</table>\n",
       "</div>"
      ],
      "text/plain": [
       "                       occur_date                      occur_time  \\\n",
       "0  02/03/2009                      13:50:00                         \n",
       "1  02/06/2009                      08:50:00                         \n",
       "2  06/17/2009                      14:00:00                         \n",
       "3  02/24/2010                      23:29:00                         \n",
       "4  01/08/2008                      13:14:00                         \n",
       "\n",
       "                 location           UC2 Literal     neighborhood          x  \\\n",
       "0    55 MCDONOUGH BLVD SW   LARCENY-NON VEHICLE    South Atlanta  -84.38654   \n",
       "1  464 ANSLEY WALK TER NW  LARCENY-FROM VEHICLE      Ansley Park  -84.37276   \n",
       "2          375 AUBURN AVE   LARCENY-NON VEHICLE     Sweet Auburn  -84.37521   \n",
       "3           600 MARTIN ST           AGG ASSAULT       Pittsburgh   -84.3946   \n",
       "4    447 ARNOLD STREET NE    BURGLARY-RESIDENCE  Old Fourth Ward  -84.36896   \n",
       "\n",
       "          y  \n",
       "0  33.72024  \n",
       "1  33.79685  \n",
       "2   33.7554  \n",
       "3  33.72212  \n",
       "4  33.76658  "
      ]
     },
     "execution_count": 22,
     "metadata": {},
     "output_type": "execute_result"
    }
   ],
   "source": [
    "# the fraction of incorrect raws is really small, so we will just remove them for the initial analysis\n",
    "raw = [line for line in raw if len(line)==23]\n",
    "d = pd.DataFrame(raw[1:],columns=raw[0])\n",
    "d.drop(['\\xef\\xbb\\xbfMI_PRINX', 'offense_id', 'rpt_date', 'poss_date', 'poss_time', 'beat', 'apt_office_prefix',\n",
    "       'apt_office_num', 'MinOfucr', 'MinOfibr_code','dispo_code', 'MaxOfnum_victims', 'Shift', 'Avg Day', \n",
    "        'loc_type','npu'],axis = 1,inplace = True)\n",
    "d.head()"
   ]
  },
  {
   "cell_type": "code",
   "execution_count": 16,
   "metadata": {
    "collapsed": false
   },
   "outputs": [
    {
     "data": {
      "text/plain": [
       "array(['\\xef\\xbb\\xbfMI_PRINX', 'offense_id', 'rpt_date', 'occur_date',\n",
       "       'occur_time', 'poss_date', 'poss_time', 'beat', 'apt_office_prefix',\n",
       "       'apt_office_num', 'location', 'MinOfucr', 'MinOfibr_code',\n",
       "       'dispo_code', 'MaxOfnum_victims', 'Shift', 'Avg Day', 'loc_type',\n",
       "       'UC2 Literal', 'neighborhood', 'npu', 'x', 'y'], dtype=object)"
      ]
     },
     "execution_count": 16,
     "metadata": {},
     "output_type": "execute_result"
    }
   ],
   "source": [
    "d.columns.values"
   ]
  },
  {
   "cell_type": "code",
   "execution_count": 23,
   "metadata": {
    "collapsed": false
   },
   "outputs": [],
   "source": [
    "d.to_csv('atlanta_crime_data.csv',index = False)"
   ]
  },
  {
   "cell_type": "code",
   "execution_count": null,
   "metadata": {
    "collapsed": true
   },
   "outputs": [],
   "source": []
  }
 ],
 "metadata": {
  "kernelspec": {
   "display_name": "Python 2",
   "language": "python",
   "name": "python2"
  },
  "language_info": {
   "codemirror_mode": {
    "name": "ipython",
    "version": 2
   },
   "file_extension": ".py",
   "mimetype": "text/x-python",
   "name": "python",
   "nbconvert_exporter": "python",
   "pygments_lexer": "ipython2",
   "version": "2.7.10"
  }
 },
 "nbformat": 4,
 "nbformat_minor": 0
}
